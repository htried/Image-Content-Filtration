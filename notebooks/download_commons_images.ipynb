{
 "cells": [
  {
   "cell_type": "code",
   "execution_count": 1,
   "id": "64fa8b1b",
   "metadata": {},
   "outputs": [
    {
     "name": "stderr",
     "output_type": "stream",
     "text": [
      "/home/htriedman/.local/lib/python3.7/site-packages/requests/__init__.py:91: RequestsDependencyWarning: urllib3 (1.26.8) or chardet (3.0.4) doesn't match a supported version!\n",
      "  RequestsDependencyWarning)\n"
     ]
    }
   ],
   "source": [
    "import pandas as pd\n",
    "import requests"
   ]
  },
  {
   "cell_type": "code",
   "execution_count": 2,
   "id": "627a7aa2",
   "metadata": {},
   "outputs": [],
   "source": [
    "categories = [\"Q42165\", \"Q4282505\", \"Q9384\", \"Q8401\", \"Q2750241\", \"Q8124\", \"Q10807\", \"Q2179394\", \"Q1480864\", \"Q21992288\", \"Q10791\", \"Q8396\", \"Q10816\", \"Q673203\", \"Q188641\", \"Q650891\",  \"Q833304\", \"Q9103\", \"Q58\", \"Q64938817\", \"Q5804321\", \"Q5880\", \"Q11722446\", \"Q83772\", \"Q174471\", \"Q133993\", \"Q40924\", \"Q1412313\", \"Q2724165\", \"Q190845\", \"Q17977112\", \"Q486775\", \"Q1081574\", \"Q918319\", \"Q83345\", \"Q847935\", \"Q626503\", \"Q2349\", \"Q1406501\", \"Q10737\", \"Q5873\", \"Q164654\", \"Q152311\", \"Q536554\", \"Q300648\", \"Q873072\", \"Q56692098\", \"Q6623\", \"Q843533\", \"Q3258546\", \"Q204933\", \"Q10801\", \"Q875006\", \"Q4112929\", \"Q56692112\", \"Q8402\", \"Q66827447\", \"Q1211892\", \"Q172067\", \"Q628958\", \"Q8398\", \"Q3502640\", \"Q2148678\", \"Q1150876\", \"Q5887\", \"Q388768\", \"Q76580\", \"Q757329\", \"Q9720\", \"Q3815525\", \"Q2576697\", \"Q1639034\", \"Q2122\"]\n",
    "entities = [\"M117494350\", \"M7511954\", \"M60519295\", \"M119719539\"]\n",
    "\n",
    "url_names = set()"
   ]
  },
  {
   "cell_type": "code",
   "execution_count": 3,
   "id": "61a57792",
   "metadata": {},
   "outputs": [],
   "source": [
    "df = pd.read_csv(\"/srv/home/htriedman/Image-Content-Filtration/notebooks/images_categories.csv\")"
   ]
  },
  {
   "cell_type": "code",
   "execution_count": 4,
   "id": "b8e856e6",
   "metadata": {},
   "outputs": [
    {
     "name": "stdout",
     "output_type": "stream",
     "text": [
      "0\n",
      "100\n",
      "200\n",
      "error\n",
      "error\n",
      "300\n",
      "error\n",
      "error\n",
      "error\n",
      "error\n",
      "error\n",
      "error\n",
      "error\n",
      "error\n",
      "400\n",
      "error\n",
      "error\n",
      "error\n",
      "error\n",
      "error\n",
      "error\n",
      "error\n",
      "error\n",
      "error\n",
      "500\n",
      "error\n",
      "error\n",
      "error\n",
      "error\n",
      "error\n",
      "error\n",
      "error\n",
      "error\n",
      "600\n",
      "error\n",
      "700\n",
      "error\n",
      "error\n",
      "error\n",
      "error\n",
      "error\n",
      "error\n",
      "error\n",
      "800\n",
      "error\n",
      "900\n",
      "error\n",
      "error\n",
      "error\n",
      "error\n",
      "error\n",
      "1000\n",
      "1000\n",
      "1100\n",
      "error\n",
      "error\n",
      "error\n",
      "1200\n",
      "1300\n",
      "error\n",
      "1400\n",
      "error\n",
      "1400\n",
      "error\n",
      "error\n",
      "error\n",
      "1500\n",
      "error\n",
      "1600\n",
      "1600\n",
      "1600\n",
      "1600\n",
      "1600\n",
      "1600\n",
      "1600\n",
      "1600\n",
      "1600\n",
      "error\n",
      "error\n",
      "1700\n",
      "error\n",
      "error\n",
      "error\n",
      "1800\n",
      "error\n",
      "1900\n",
      "error\n",
      "error\n",
      "error\n",
      "error\n",
      "2000\n",
      "error\n",
      "2100\n",
      "2100\n",
      "error\n",
      "error\n",
      "error\n"
     ]
    }
   ],
   "source": [
    "urls = []\n",
    "i = 0\n",
    "for cat in categories:\n",
    "    for entity_id in df.loc[df.cat_id == cat].image_id.to_list():\n",
    "        if i % 100 == 0:\n",
    "            print(i)\n",
    "        \n",
    "        if entity_id in url_names:\n",
    "            continue\n",
    "        else:\n",
    "            url_names.add(entity_id)\n",
    "            \n",
    "        try:\n",
    "            resp = requests.get(f\"https://commons.wikimedia.org/wiki/Special:EntityData/{entity_id}.json\")\n",
    "            title = resp.json()['entities'][entity_id]['title']\n",
    "            resp2 = requests.get(f\"https://www.mediawiki.org/w/api.php?action=query&titles={title}&prop=imageinfo&iiprop=timestamp%7Cuser%7Curl&format=json\")\n",
    "            url = resp2.json()['query']['pages']['-1']['imageinfo'][0]['url']\n",
    "            urls.append(url)\n",
    "            i += 1\n",
    "        except:\n",
    "            print(\"error\")"
   ]
  },
  {
   "cell_type": "code",
   "execution_count": 5,
   "id": "f4d9e342",
   "metadata": {},
   "outputs": [
    {
     "data": {
      "text/plain": [
       "2142"
      ]
     },
     "execution_count": 5,
     "metadata": {},
     "output_type": "execute_result"
    }
   ],
   "source": [
    "len(urls)"
   ]
  },
  {
   "cell_type": "code",
   "execution_count": 9,
   "id": "39bb27ac",
   "metadata": {},
   "outputs": [],
   "source": [
    "with open(\"/home/htriedman/nsfw_data_scraper/raw_data/commons/urls_commons.txt\", \"w\") as f:\n",
    "    for url in urls:\n",
    "        f.write(f\"{url}\\n\")"
   ]
  },
  {
   "cell_type": "code",
   "execution_count": null,
   "id": "3a25859f",
   "metadata": {},
   "outputs": [],
   "source": []
  }
 ],
 "metadata": {
  "kernelspec": {
   "display_name": "Python 3 (ipykernel)",
   "language": "python",
   "name": "python3"
  },
  "language_info": {
   "codemirror_mode": {
    "name": "ipython",
    "version": 3
   },
   "file_extension": ".py",
   "mimetype": "text/x-python",
   "name": "python",
   "nbconvert_exporter": "python",
   "pygments_lexer": "ipython3",
   "version": "3.7.6"
  }
 },
 "nbformat": 4,
 "nbformat_minor": 5
}
